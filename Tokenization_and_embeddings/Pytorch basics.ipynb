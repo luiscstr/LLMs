{
 "cells": [
  {
   "cell_type": "code",
   "execution_count": 7,
   "id": "2818460e-d470-40ec-82bf-07d20857f5a1",
   "metadata": {},
   "outputs": [],
   "source": [
    "import torch\n",
    "from torch.utils.data import Dataset\n",
    "from torch.utils.data import DataLoader\n"
   ]
  },
  {
   "cell_type": "markdown",
   "id": "20898b50-40df-43ac-aac7-af9ced618302",
   "metadata": {},
   "source": [
    "**Dataset and dataloader**"
   ]
  },
  {
   "cell_type": "code",
   "execution_count": 4,
   "id": "99bc5b0e-097b-487a-8dc8-c15d595ad36e",
   "metadata": {},
   "outputs": [],
   "source": [
    "#Simple dataset with five samples of two features and two possible classes (0 and 1)\n",
    "X_train = torch.tensor([\n",
    "[-1.2, 3.1],\n",
    "[-0.9, 2.9],\n",
    "[-0.5, 2.6],\n",
    "[2.3, -1.1],\n",
    "[2.7, -1.5]\n",
    "])\n",
    "y_train = torch.tensor([0, 0, 0, 1, 1])\n",
    "\n",
    "X_test = torch.tensor([\n",
    "[-0.8, 2.8],\n",
    "[2.6, -1.6],\n",
    "])\n",
    "y_test = torch.tensor([0, 1])\n"
   ]
  },
  {
   "cell_type": "code",
   "execution_count": 6,
   "id": "fbc71e8c-7206-44bf-874c-58b9f0c7d420",
   "metadata": {},
   "outputs": [],
   "source": [
    "#Creating a class dataset\n",
    "class ToyDataset(Dataset):\n",
    "    def __init__(self, X, y):\n",
    "        self.features = X\n",
    "        self.labels = y\n",
    "    def __getitem__(self, index): #To retrieve only ome record\n",
    "        one_x = self.features[index] \n",
    "        one_y = self.labels[index] \n",
    "        return one_x, one_y \n",
    "    def __len__(self): #To return the total lengt\n",
    "        return self.labels.shape[0] #B\n",
    "        \n",
    "train_ds = ToyDataset(X_train, y_train)\n",
    "test_ds = ToyDataset(X_test, y_test)"
   ]
  },
  {
   "cell_type": "code",
   "execution_count": 8,
   "id": "61ab9a3c-fa05-4474-abe7-4911291b9034",
   "metadata": {},
   "outputs": [
    {
     "name": "stdout",
     "output_type": "stream",
     "text": [
      "Batch 1: tensor([[ 2.3000, -1.1000],\n",
      "        [-0.9000,  2.9000]]) tensor([1, 0])\n",
      "Batch 2: tensor([[-1.2000,  3.1000],\n",
      "        [-0.5000,  2.6000]]) tensor([0, 0])\n",
      "Batch 3: tensor([[ 2.7000, -1.5000]]) tensor([1])\n"
     ]
    }
   ],
   "source": [
    "#Creating THE dataloader\n",
    "torch.manual_seed(123)\n",
    "\n",
    "train_loader = DataLoader(\n",
    "    dataset=train_ds, \n",
    "    batch_size=2,\n",
    "    shuffle=True, \n",
    "    num_workers=0 # Small dataset, no need to set 1 or larger\n",
    ")\n",
    "\n",
    "test_loader = DataLoader(\n",
    "    dataset=test_ds,\n",
    "    batch_size=2,\n",
    "    shuffle=False, #D\n",
    "    num_workers=0\n",
    ")\n",
    "\n",
    "for idx, (x, y) in enumerate(train_loader):\n",
    "    print(f\"Batch {idx+1}:\", x, y)\n"
   ]
  },
  {
   "cell_type": "code",
   "execution_count": null,
   "id": "4edbcab5-edfe-40cf-ac71-8a3bb2f1f4d7",
   "metadata": {},
   "outputs": [],
   "source": []
  },
  {
   "cell_type": "code",
   "execution_count": null,
   "id": "fd44496a-c9f0-4f30-9b3c-9b49397dc621",
   "metadata": {},
   "outputs": [],
   "source": []
  },
  {
   "cell_type": "code",
   "execution_count": null,
   "id": "5added56-4546-4c66-ba1f-b0b7578696d2",
   "metadata": {},
   "outputs": [],
   "source": []
  },
  {
   "cell_type": "code",
   "execution_count": null,
   "id": "01ca3197-40b2-4c64-993b-1d0583389f5d",
   "metadata": {},
   "outputs": [],
   "source": []
  },
  {
   "cell_type": "code",
   "execution_count": null,
   "id": "c0aa1c84-723b-4f7d-a320-2a7fc38b8658",
   "metadata": {},
   "outputs": [],
   "source": []
  },
  {
   "cell_type": "code",
   "execution_count": null,
   "id": "e4c16521-f9eb-4973-affc-9f8acfd3b912",
   "metadata": {},
   "outputs": [],
   "source": []
  },
  {
   "cell_type": "code",
   "execution_count": null,
   "id": "7ee94bde-0566-48da-abcb-c0dde223a9c8",
   "metadata": {},
   "outputs": [],
   "source": []
  }
 ],
 "metadata": {
  "kernelspec": {
   "display_name": "Python 3 (ipykernel)",
   "language": "python",
   "name": "python3"
  },
  "language_info": {
   "codemirror_mode": {
    "name": "ipython",
    "version": 3
   },
   "file_extension": ".py",
   "mimetype": "text/x-python",
   "name": "python",
   "nbconvert_exporter": "python",
   "pygments_lexer": "ipython3",
   "version": "3.11.7"
  }
 },
 "nbformat": 4,
 "nbformat_minor": 5
}

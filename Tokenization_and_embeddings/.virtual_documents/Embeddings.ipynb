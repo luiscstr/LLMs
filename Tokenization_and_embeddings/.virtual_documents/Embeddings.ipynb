from importlib.metadata import version
import re
import tiktoken
import torch

print("torch version:", version("torch"))
print("tiktoken version:", version("tiktoken"))


import os
import urllib.request

if not os.path.exists("the-verdict.txt"):
    url = ("https://raw.githubusercontent.com/rasbt/"
           "LLMs-from-scratch/main/ch02/01_main-chapter-code/"
           "the-verdict.txt")
    file_path = "the-verdict.txt"
    urllib.request.urlretrieve(url, file_path)


with open("the-verdict.txt", "r", encoding="utf-8") as f:
    raw_text = f.read()
    
print("Total number of character:", len(raw_text))
print(raw_text[:99])


#Tokenizing text
preprocessed = re.split(r'([,.:;?_!"()\']|--|\s)', raw_text) #split some punctuation characters
preprocessed = [item.strip() for item in preprocessed if item.strip()] #remove blanks
print(preprocessed[:30])


#Converting tokens into token IDs
all_words = sorted(set(preprocessed))
vocab = {token:integer for integer,token in enumerate(all_words)}


for i, item in enumerate(vocab.items()):
    print(item)
    if i >= 20:
        break


#Building a tokenizer class
class SimpleTokenizerV1:
    def __init__(self, vocab):
        self.str_to_int = vocab
        self.int_to_str = {i:s for s,i in vocab.items()}
    
    def encode(self, text):
        preprocessed = re.split(r'([,.?_!"()\']|--|\s)', text)
        preprocessed = [
            item.strip() for item in preprocessed if item.strip()
        ]
        ids = [self.str_to_int[s] for s in preprocessed]
        return ids
        
    def decode(self, ids):
        text = " ".join([self.int_to_str[i] for i in ids])
        # Replace spaces before the specified punctuations
        text = re.sub(r'\s+([,.?!"()\'])', r'\1', text)
        return text


tokenizer = SimpleTokenizerV1(vocab)

text = """"It's the last he painted, you know," 
           Mrs. Gisburn said with pardonable pride."""
ids = tokenizer.encode(text)
print(ids)


tokenizer.decode(ids)


#Adding special context tokens: "unk" for words not in the vocab and "endoftext" to indicate the end of a text (document)
preprocessed = re.split(r'([,.?_!"()\']|--|\s)', raw_text)
preprocessed = [item.strip() for item in preprocessed if item.strip()]

all_tokens = sorted(list(set(preprocessed)))
all_tokens.extend(["<|endoftext|>", "<|unk|>"])

vocab = {token:integer for integer,token in enumerate(all_tokens)}


for i, item in enumerate(list(vocab.items())[-5:]):
    print(item)


#Modifying the class to add the special tokens
class SimpleTokenizerV2:
    def __init__(self, vocab):
        self.str_to_int = vocab
        self.int_to_str = { i:s for s,i in vocab.items()}
    
    def encode(self, text):
        preprocessed = re.split(r'([,.?_!"()\']|--|\s)', text)
        preprocessed = [item.strip() for item in preprocessed if item.strip()]
        preprocessed = [
            item if item in self.str_to_int 
            else "<|unk|>" for item in preprocessed
        ]

        ids = [self.str_to_int[s] for s in preprocessed]
        return ids
        
    def decode(self, ids):
        text = " ".join([self.int_to_str[i] for i in ids])
        # Replace spaces before the specified punctuations
        text = re.sub(r'\s+([,.?!"()\'])', r'\1', text)
        return text


tokenizer = SimpleTokenizerV2(vocab)

text1 = "Hello, do you like tea?"
text2 = "In the sunlit terraces of the palace."

text = " <|endoftext|> ".join((text1, text2))

print(text)


tokenizer.encode(text)





#Instantiating the tokenizer
tokenizer = tiktoken.get_encoding("gpt2")


text = "Hello, ims do you like tea? <|endoftext|> In the sunlit terraces of someunknownPlace."
integers = tokenizer.encode(text, allowed_special={"<|endoftext|>"})
print(integers)


#Converting back to text
strings=tokenizer.decode(integers)
print(strings)





#Example of a totally unknown text
text="Akwirw ier"
integers = tokenizer.encode(text, allowed_special={"<|endoftext|>"})
print(integers)


strings=tokenizer.decode(integers)
print(strings)











#Loading data and tokenizing
with open("the-verdict.txt", "r", encoding="utf-8") as f:
    raw_text = f.read()
enc_text = tokenizer.encode(raw_text)
print(len(enc_text))



#Picking a sample for drmonstration purposes
enc_sample = enc_text[50:]


context_size = 4 #number of tookens to be included in the inpult
x = enc_sample[:context_size]
y = enc_sample[1:context_size+1]# targey shifted by one
print(f"x: {x}")
print(f"y: {y}")



for i in range(1, context_size+1):
    context = enc_sample[:i]
    desired = enc_sample[i]
    print(context, "---->", desired)



#Converting back to text
for i in range(1, context_size+1):
    context = enc_sample[:i]
    desired = enc_sample[i]
    print(tokenizer.decode(context), "---->", tokenizer.decode([desired]))


#Creating a Dataset and Data Loader


#Dataset
import torch
from torch.utils.data import Dataset, DataLoader

class GPTDatasetV1(Dataset):
    def __init__(self, txt, tokenizer, max_length, stride):
        self.tokenizer = tokenizer
        self.input_ids = []
        self.target_ids = []
        token_ids = tokenizer.encode(txt) #Tokenize the text
        for i in range(0, len(token_ids) - max_length, stride): #Sliding window to chunk the text into overlapping sequences of max_length
            input_chunk = token_ids[i:i + max_length]
            target_chunk = token_ids[i + 1: i + max_length + 1]
            self.input_ids.append(torch.tensor(input_chunk))
            self.target_ids.append(torch.tensor(target_chunk))
    def __len__(self): #Return number of rows in the dataset
        return len(self.input_ids)
    def __getitem__(self, idx): #Return a single row from the dataset
        return self.input_ids[idx], self.target_ids[idx]



#Data loader
def create_dataloader(txt, batch_size=4, max_length=256, stride=128, shuffle=True):
    tokenizer = tiktoken.get_encoding("gpt2") #Initialize the tokenizer
    dataset = GPTDatasetV1(txt, tokenizer, max_length, stride) #Create dataset
    dataloader = DataLoader(dataset, batch_size=batch_size, shuffle=shuffle) #Create data loader
    return dataloader



with open("the-verdict.txt", "r", encoding="utf-8") as f:
    raw_text = f.read()
dataloader = create_dataloader(raw_text, batch_size=1, max_length=4, stride=1, shuffle=False)
data_iter = iter(dataloader) # convert dataloader into a Python iterator to fetch the next entry via Python's built-in next() function
first_batch = next(data_iter)
print(first_batch)



#A stride of 1 moves the input by 1 position
second_batch = next(data_iter)
print(second_batch)


#Other examples with different max length and strides
dataloader = create_dataloader(raw_text, batch_size=1, max_length=2, stride=2, shuffle=False)
data_iter = iter(dataloader) # convert dataloader into a Python iterator to fetch the next entry via Python's built-in next() function
first_batch = next(data_iter)
print(first_batch)
second_batch = next(data_iter)
print(second_batch)


#Yet other examples with different max length and strides
dataloader = create_dataloader(raw_text, batch_size=1, max_length=8, stride=2, shuffle=False)
data_iter = iter(dataloader) # convert dataloader into a Python iterator to fetch the next entry via Python's built-in next() function
first_batch = next(data_iter)
print(first_batch)
second_batch = next(data_iter)
print(second_batch)





dataloader = create_dataloader(raw_text, batch_size=8, max_length=4, stride=5)
data_iter = iter(dataloader)
inputs, targets = next(data_iter)
print("Inputs:\n", inputs)
print("\nTargets:\n", targets)








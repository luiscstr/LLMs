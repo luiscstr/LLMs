{
 "cells": [
  {
   "cell_type": "markdown",
   "id": "b29aa980-7d90-47e1-a360-6ba2959b5eec",
   "metadata": {},
   "source": [
    "Smallest version of GPT-2 model,  with 124 million parameters, as described in Radford's et al.'s paper, \"Language Models are Unsupervised Multitask Learners.\""
   ]
  },
  {
   "cell_type": "code",
   "execution_count": 39,
   "id": "f2a181f9-bffe-4612-80b1-a6ae9d724897",
   "metadata": {},
   "outputs": [],
   "source": [
    "#Configuration of the model\n",
    "GPT_CONFIG_124M = {\n",
    "    \"vocab_size\": 50257, # Vocabulary size\n",
    "    \"ctx_len\": 1024, # Context length\n",
    "    \"emb_dim\": 768, # Embedding dimension\n",
    "    \"n_heads\": 12, # Number of attention heads\n",
    "    \"n_layers\": 12, # Number of layers\n",
    "    \"drop_rate\": 0.1, # Dropout rate\n",
    "    \"qkv_bias\": False # Query-Key-Value bias\n",
    "}\n"
   ]
  },
  {
   "cell_type": "markdown",
   "id": "56470781-bad6-4b73-af9a-c3d5c0dc7c0f",
   "metadata": {},
   "source": [
    "Components of the models architecture:\n",
    "- Layer normalization\n",
    "- GELU activation\n",
    "- Feed forward network\n",
    "- Shortcut connections\n",
    "- Transformer block"
   ]
  },
  {
   "cell_type": "code",
   "execution_count": 3,
   "id": "46e44394-aef9-49ae-a47e-cbda30fc8b6d",
   "metadata": {},
   "outputs": [],
   "source": [
    "#First, we build the backbone of the model. The configuration is passed through a dictionary. The forward method describes the data flow through the model: \n",
    "#it computes token and #positional embeddings for the input indices, applies dropout, processes the data through #the transformer blocks, \n",
    "#applies normalization, and finally produces logits with the linear output layer\n",
    "import torch.nn as nn\n",
    "class DummyGPTModel(nn.Module):\n",
    "    def __init__(self, cfg):\n",
    "        super().__init__()\n",
    "        self.tok_emb = nn.Embedding(cfg[\"vocab_size\"], cfg[\"emb_dim\"])\n",
    "        self.pos_emb = nn.Embedding(cfg[\"ctx_len\"], cfg[\"emb_dim\"])\n",
    "        self.drop_emb = nn.Dropout(cfg[\"drop_rate\"])\n",
    "        self.trf_blocks = nn.Sequential(*[DummyTransformerBlock(cfg) for _ in range(cfg[\"n_layers\"])])# Placeholder for Transformer block\n",
    "        self.final_norm = DummyLayerNorm(cfg[\"emb_dim\"]) #Placeholder for LayerNorm \n",
    "        self.out_head = nn.Linear(cfg[\"emb_dim\"], cfg[\"vocab_size\"], bias=False)\n",
    "\n",
    "    def forward(self, in_idx):\n",
    "        batch_size, seq_len = in_idx.shape\n",
    "        tok_embeds = self.tok_emb(in_idx)\n",
    "        pos_embeds = self.pos_emb(torch.arange(seq_len,device=in_idx.device))\n",
    "        x = tok_embeds + pos_embeds\n",
    "        x = self.drop_emb(x)\n",
    "        x = self.trf_blocks(x)\n",
    "        x = self.final_norm(x)\n",
    "        logits = self.out_head(x)\n",
    "        return logits\n",
    "        \n",
    "class DummyTransformerBlock(nn.Module): #Placeholder transformer class\n",
    "        def _\n",
    "    _init__(self, cfg):\n",
    "            super().__init__()\n",
    "        def forward(self, x): \n",
    "            return x\n",
    "            \n",
    "class DummyLayerNorm(nn.Module): #Placehoder fot Layer Normalization\n",
    "        def __init__(self, normalized_shape, eps=1e-5): \n",
    "            super().__init__()\n",
    "        def forward(self, x):\n",
    "            return x"
   ]
  },
  {
   "cell_type": "code",
   "execution_count": 1,
   "id": "dc156d36-a3c3-4763-873c-70d3630ccda2",
   "metadata": {},
   "outputs": [
    {
     "name": "stdout",
     "output_type": "stream",
     "text": [
      "tensor([[6109, 3626, 6100,  345],\n",
      "        [6109, 1110, 6622,  257]])\n"
     ]
    }
   ],
   "source": [
    "#Generating input\n",
    "import tiktoken\n",
    "import torch\n",
    "tokenizer = tiktoken.get_encoding(\"gpt2\")\n",
    "batch = []\n",
    "txt1 = \"Every effort moves you\"\n",
    "txt2 = \"Every day holds a\"\n",
    "\n",
    "batch.append(torch.tensor(tokenizer.encode(txt1)))\n",
    "batch.append(torch.tensor(tokenizer.encode(txt2)))\n",
    "batch = torch.stack(batch, dim=0)\n",
    "\n",
    "print(batch)"
   ]
  },
  {
   "cell_type": "code",
   "execution_count": 6,
   "id": "cfab0bd0-fcaa-4f21-8d0a-c7cbbd0064dd",
   "metadata": {},
   "outputs": [
    {
     "name": "stdout",
     "output_type": "stream",
     "text": [
      "Output shape: torch.Size([2, 4, 50257])\n",
      "tensor([[[-0.9289,  0.2748, -0.7557,  ..., -1.6070,  0.2702, -0.5888],\n",
      "         [-0.4476,  0.1726,  0.5354,  ..., -0.3932,  1.5285,  0.8557],\n",
      "         [ 0.5680,  1.6053, -0.2155,  ...,  1.1624,  0.1380,  0.7425],\n",
      "         [ 0.0448,  2.4787, -0.8843,  ...,  1.3219, -0.0864, -0.5856]],\n",
      "\n",
      "        [[-1.5474, -0.0542, -1.0571,  ..., -1.8061, -0.4494, -0.6747],\n",
      "         [-0.8422,  0.8243, -0.1098,  ..., -0.1434,  0.2079,  1.2046],\n",
      "         [ 0.1355,  1.1858, -0.1453,  ...,  0.0869, -0.1590,  0.1552],\n",
      "         [ 0.1666, -0.8138,  0.2307,  ...,  2.5035, -0.3055, -0.3083]]],\n",
      "       grad_fn=<UnsafeViewBackward0>)\n"
     ]
    }
   ],
   "source": [
    "#Initialiting and feeding the batch to the dummy model\n",
    "torch.manual_seed(123)\n",
    "model = DummyGPTModel(GPT_CONFIG_124M)\n",
    "logits = model(batch)\n",
    "print(\"Output shape:\", logits.shape)\n",
    "print(logits)\n"
   ]
  },
  {
   "cell_type": "markdown",
   "id": "a1402957-adad-4ba8-abb9-f2857c987519",
   "metadata": {},
   "source": [
    "***Layer Normalization***\n",
    "\n",
    "The main idea behind layer normalization is to adjust the activations (outputs) of a neural network layer to have a mean of 0 and a variance of 1, also known as unit variance. This adjustment speeds up the convergence to effective weights and ensures consistent, reliable training. It is applied before and after the multi-head attention module and before the final output layer.\n"
   ]
  },
  {
   "cell_type": "code",
   "execution_count": 7,
   "id": "683ad89b-1b9d-48dc-822c-f5a00685e591",
   "metadata": {},
   "outputs": [
    {
     "name": "stdout",
     "output_type": "stream",
     "text": [
      "tensor([[0.2260, 0.3470, 0.0000, 0.2216, 0.0000, 0.0000],\n",
      "        [0.2133, 0.2394, 0.0000, 0.5198, 0.3297, 0.0000]],\n",
      "       grad_fn=<ReluBackward0>)\n"
     ]
    }
   ],
   "source": [
    "#Example of a neural network with 5 inputs and 6 outputs\n",
    "torch.manual_seed(123)\n",
    "batch_example = torch.randn(2, 5) #2 training examples with 5 dimensions\n",
    "layer = nn.Sequential(nn.Linear(5, 6), nn.ReLU())\n",
    "out = layer(batch_example)\n",
    "print(out)"
   ]
  },
  {
   "cell_type": "code",
   "execution_count": 8,
   "id": "88ea7553-b08e-4e15-b657-4c202092b2a2",
   "metadata": {},
   "outputs": [
    {
     "name": "stdout",
     "output_type": "stream",
     "text": [
      "Mean:\n",
      " tensor([[0.1324],\n",
      "        [0.2170]], grad_fn=<MeanBackward1>)\n",
      "Variance:\n",
      " tensor([[0.0231],\n",
      "        [0.0398]], grad_fn=<VarBackward0>)\n"
     ]
    }
   ],
   "source": [
    "#Checking the mean and variance\n",
    "mean = out.mean(dim=-1, keepdim=True)#-1 refers to the last dimension of the tensoer. In this case equals to dim=1\n",
    "var = out.var(dim=-1, keepdim=True)\n",
    "print(\"Mean:\\n\", mean)\n",
    "print(\"Variance:\\n\", var)"
   ]
  },
  {
   "cell_type": "code",
   "execution_count": 9,
   "id": "d1541182-f605-48b7-ac8f-5c386472ea4a",
   "metadata": {},
   "outputs": [
    {
     "name": "stdout",
     "output_type": "stream",
     "text": [
      "Normalized layer outputs:\n",
      " tensor([[ 0.6159,  1.4126, -0.8719,  0.5872, -0.8719, -0.8719],\n",
      "        [-0.0189,  0.1121, -1.0876,  1.5173,  0.5647, -1.0876]],\n",
      "       grad_fn=<DivBackward0>)\n",
      "Mean:\n",
      " tensor([[9.9341e-09],\n",
      "        [5.9605e-08]], grad_fn=<MeanBackward1>)\n",
      "Variance:\n",
      " tensor([[1.0000],\n",
      "        [1.0000]], grad_fn=<VarBackward0>)\n"
     ]
    }
   ],
   "source": [
    "#Applying layer normalization:\n",
    "out_norm = (out - mean) / torch.sqrt(var)\n",
    "mean = out_norm.mean(dim=-1, keepdim=True)\n",
    "var = out_norm.var(dim=-1, keepdim=True)\n",
    "print(\"Normalized layer outputs:\\n\", out_norm)\n",
    "print(\"Mean:\\n\", mean)\n",
    "print(\"Variance:\\n\", var)\n"
   ]
  },
  {
   "cell_type": "code",
   "execution_count": 10,
   "id": "73205f0e-aa01-4b29-9de0-f099cd261821",
   "metadata": {},
   "outputs": [
    {
     "name": "stdout",
     "output_type": "stream",
     "text": [
      "Mean:\n",
      " tensor([[    0.0000],\n",
      "        [    0.0000]], grad_fn=<MeanBackward1>)\n",
      "Variance:\n",
      " tensor([[1.0000],\n",
      "        [1.0000]], grad_fn=<VarBackward0>)\n"
     ]
    }
   ],
   "source": [
    "#Turning off scientific notation\n",
    "torch.set_printoptions(sci_mode=False)\n",
    "print(\"Mean:\\n\", mean)\n",
    "print(\"Variance:\\n\", var)\n",
    "\n"
   ]
  },
  {
   "cell_type": "code",
   "execution_count": 11,
   "id": "9202e627-ec14-4580-96e1-026373f31247",
   "metadata": {},
   "outputs": [],
   "source": [
    "#Creating norrmalization module. Scale and shifting are trainable parameters automatically adjusted during training.\n",
    "class LayerNorm(nn.Module):\n",
    "    def __init__(self, emb_dim):\n",
    "        super().__init__()\n",
    "        self.eps = 1e-5 #to prevent division by zero during normalization. \n",
    "        self.scale = nn.Parameter(torch.ones(emb_dim))\n",
    "        self.shift = nn.Parameter(torch.zeros(emb_dim))\n",
    "    def forward(self, x):\n",
    "        mean = x.mean(dim=-1, keepdim=True)\n",
    "        var = x.var(dim=-1, keepdim=True, unbiased=False)#unbiased False does not apply Bessel's correction, following the original GPT-2 implementation\n",
    "        norm_x = (x - mean) / torch.sqrt(var + self.eps)\n",
    "        return self.scale * norm_x + self.shift\n"
   ]
  },
  {
   "cell_type": "code",
   "execution_count": 12,
   "id": "d4074a67-dfc2-4ecc-9f72-1de8d5e75706",
   "metadata": {},
   "outputs": [
    {
     "name": "stdout",
     "output_type": "stream",
     "text": [
      "Mean:\n",
      " tensor([[    -0.0000],\n",
      "        [     0.0000]], grad_fn=<MeanBackward1>)\n",
      "Variance:\n",
      " tensor([[1.0000],\n",
      "        [1.0000]], grad_fn=<VarBackward0>)\n"
     ]
    }
   ],
   "source": [
    "#Applying the layer normalization to an example\n",
    "ln = LayerNorm(emb_dim=5)\n",
    "out_ln = ln(batch_example)\n",
    "mean = out_ln.mean(dim=-1, keepdim=True)\n",
    "var = out_ln.var(dim=-1, unbiased=False, keepdim=True)\n",
    "print(\"Mean:\\n\", mean)\n",
    "print(\"Variance:\\n\", var)\n"
   ]
  },
  {
   "attachments": {
    "c043f00e-560a-4f12-b7df-4fd8e34308de.png": {
     "image/png": "[encoded data removed]"
    }
   },
   "cell_type": "markdown",
   "id": "f687a5ca-277c-408c-85ff-64b98e699836",
   "metadata": {},
   "source": [
    "***GELU activation***\n",
    "\n",
    "Implementing GELU approximation\n",
    "\n",
    "![image.png](attachment:c043f00e-560a-4f12-b7df-4fd8e34308de.png)"
   ]
  },
  {
   "cell_type": "code",
   "execution_count": 14,
   "id": "2208be8a-8950-4498-ba8f-1ab1c413a220",
   "metadata": {},
   "outputs": [],
   "source": [
    "class GELU(nn.Module):\n",
    "    def __init__(self):\n",
    "        super().__init__()\n",
    "    def forward(self, x):\n",
    "        return 0.5 * x * (1 + torch.tanh(\n",
    "            torch.sqrt(torch.tensor(2.0 / torch.pi)) *(x + 0.044715 * torch.pow(x, 3))\n",
    "    ))"
   ]
  },
  {
   "cell_type": "code",
   "execution_count": 16,
   "id": "d78bb360-1b3d-4bb0-8e20-874f1577344e",
   "metadata": {},
   "outputs": [],
   "source": [
    "#Creating a feed forward module which uses GELU function\n",
    "class FeedForward(nn.Module):\n",
    "    def __init__(self, cfg):\n",
    "        super().__init__()\n",
    "        self.layers = nn.Sequential(nn.Linear(cfg[\"emb_dim\"], 4 * cfg[\"emb_dim\"]),GELU(),nn.Linear(4 * cfg[\"emb_dim\"], cfg[\"emb_dim\"]),\n",
    "        nn.Dropout(cfg[\"drop_rate\"]))\n",
    "    def forward(self, x):\n",
    "        return self.layers(x)\n"
   ]
  },
  {
   "cell_type": "code",
   "execution_count": 17,
   "id": "194cb9bd-35bb-433e-8b71-d3c2d346561b",
   "metadata": {},
   "outputs": [
    {
     "name": "stdout",
     "output_type": "stream",
     "text": [
      "torch.Size([2, 3, 768])\n"
     ]
    }
   ],
   "source": [
    "ffn = FeedForward(GPT_CONFIG_124M)\n",
    "x = torch.rand(2, 3, 768) #A\n",
    "out = ffn(x)\n",
    "print(out.shape)"
   ]
  },
  {
   "cell_type": "markdown",
   "id": "06fbefb7-cd87-48aa-95e7-af158b83c065",
   "metadata": {},
   "source": [
    "***Shortcut connections***\n",
    "\n",
    "Shorcut connections are used to mitigate the challenge of vanishing gradients. Shortcut connections involve adding the inputs of a layer to its\n",
    "outputs, effectively creating an alternate path that bypasses certain layers. "
   ]
  },
  {
   "cell_type": "code",
   "execution_count": 22,
   "id": "b4e25117-a2f1-4cbc-80d2-d14acb9235f8",
   "metadata": {},
   "outputs": [],
   "source": [
    "#Code of shortcut connection\n",
    "class ExampleDeepNeuralNetwork(nn.Module):\n",
    "    def __init__(self, layer_sizes, use_shortcut):\n",
    "        super().__init__()\n",
    "        self.use_shortcut = use_shortcut\n",
    "        self.layers = nn.ModuleList([\n",
    "        # Implement 5 layers\n",
    "        nn.Sequential(nn.Linear(layer_sizes[0], layer_sizes[1]),GELU()),\n",
    "        nn.Sequential(nn.Linear(layer_sizes[1], layer_sizes[2]),GELU()),\n",
    "        nn.Sequential(nn.Linear(layer_sizes[2], layer_sizes[3]),GELU()),\n",
    "        nn.Sequential(nn.Linear(layer_sizes[3], layer_sizes[4]),GELU()),\n",
    "        nn.Sequential(nn.Linear(layer_sizes[4], layer_sizes[5]),GELU())\n",
    "        ])\n",
    "    def forward(self, x):\n",
    "        for layer in self.layers:\n",
    "            # Compute the output of the current layer\n",
    "            layer_output = layer(x)\n",
    "            # Check if shortcut can be applied\n",
    "            if self.use_shortcut and x.size() == layer_output.size():\n",
    "                x = x + layer_output\n",
    "            else:\n",
    "                x = layer_output\n",
    "        return x"
   ]
  },
  {
   "cell_type": "code",
   "execution_count": 23,
   "id": "8a25ebd8-b483-4759-a73d-463db3787ad5",
   "metadata": {},
   "outputs": [],
   "source": [
    "#Example without shortcuts\n",
    "layer_sizes = [3, 3, 3, 3, 3, 1] #each layer will be initialized such that it accepts an example with 3 input values and returns 3 output values. The last layer returns a single output value:\n",
    "sample_input = torch.tensor([[1., 0., -1.]])\n",
    "torch.manual_seed(123) # specify random seed for the initial weights forreproducibility\n",
    "model_without_shortcut = ExampleDeepNeuralNetwork(layer_sizes, use_shortcut=False)"
   ]
  },
  {
   "cell_type": "code",
   "execution_count": 24,
   "id": "6ee9e1ec-9a16-4794-9f3f-7648b5684ecc",
   "metadata": {},
   "outputs": [],
   "source": [
    "#Function to compute the grdient's in the backward pass\n",
    "def print_gradients(model, x):\n",
    "    # Forward pass\n",
    "    output = model(x)\n",
    "    target = torch.tensor([[0.]])\n",
    "    # Calculate loss based on how close the target\n",
    "    # and output are\n",
    "    loss = nn.MSELoss()\n",
    "    loss = loss(output, target)\n",
    "    # Backward pass to calculate the gradients\n",
    "    loss.backward()\n",
    "    \n",
    "    for name, param in model.named_parameters(): #n iterate through the weight parameters \n",
    "        if 'weight' in name:\n",
    "            # Print the mean absolute gradient of the weights\n",
    "            print(f\"{name} has gradient mean of {param.grad.abs().mean().item()}\")\n"
   ]
  },
  {
   "cell_type": "code",
   "execution_count": 25,
   "id": "fce84652-61ef-4bea-9339-feb793884514",
   "metadata": {},
   "outputs": [
    {
     "name": "stdout",
     "output_type": "stream",
     "text": [
      "layers.0.0.weight has gradient mean of 0.00020173590746708214\n",
      "layers.1.0.weight has gradient mean of 0.0001201116101583466\n",
      "layers.2.0.weight has gradient mean of 0.0007152042235247791\n",
      "layers.3.0.weight has gradient mean of 0.0013988739810883999\n",
      "layers.4.0.weight has gradient mean of 0.00504964729771018\n"
     ]
    }
   ],
   "source": [
    "print_gradients(model_without_shortcut, sample_input)"
   ]
  },
  {
   "cell_type": "markdown",
   "id": "0b424c11-8c27-4510-95d4-a91d23b03bc5",
   "metadata": {},
   "source": [
    "The gradients become smaller as we progress from the last layer (layers.4) to the first layer (layers.0),"
   ]
  },
  {
   "cell_type": "code",
   "execution_count": 26,
   "id": "2600078d-1db7-48d8-a9d8-11cc37ebfa89",
   "metadata": {},
   "outputs": [
    {
     "name": "stdout",
     "output_type": "stream",
     "text": [
      "layers.0.0.weight has gradient mean of 0.22169791162014008\n",
      "layers.1.0.weight has gradient mean of 0.20694102346897125\n",
      "layers.2.0.weight has gradient mean of 0.32896995544433594\n",
      "layers.3.0.weight has gradient mean of 0.2665732204914093\n",
      "layers.4.0.weight has gradient mean of 1.3258541822433472\n"
     ]
    }
   ],
   "source": [
    "#Model with skip connections\n",
    "torch.manual_seed(123)\n",
    "model_with_shortcut = ExampleDeepNeuralNetwork(layer_sizes, use_shortcut=True)\n",
    "print_gradients(model_with_shortcut, sample_input)"
   ]
  },
  {
   "cell_type": "markdown",
   "id": "6533fadd-4219-4ae4-8b6b-4fd0f9023e68",
   "metadata": {},
   "source": [
    "The gradient value stabilizes as we progress towards the first layer (layers.0) and doesn't shrink to a vanishingly small value."
   ]
  },
  {
   "cell_type": "markdown",
   "id": "923847e7-ffbd-4609-a02b-d7a4d2e498c0",
   "metadata": {},
   "source": [
    "***Transformer block***\n",
    "\n",
    "Transformer block connects the components above: multi-head attention, layer normalization, dropout, feed forward layers, and GELU activations. "
   ]
  },
  {
   "cell_type": "code",
   "execution_count": 51,
   "id": "cbf5931c-1b31-4324-a826-b1cbec958821",
   "metadata": {},
   "outputs": [],
   "source": [
    "from Classes import MultiHeadAttention\n",
    "\n",
    "class TransformerBlock(nn.Module):\n",
    "    def __init__(self, cfg):\n",
    "        super().__init__()\n",
    "        self.att = MultiHeadAttention(\n",
    "            d_in=cfg[\"emb_dim\"],\n",
    "            d_out=cfg[\"emb_dim\"],\n",
    "            context_length=cfg[\"ctx_len\"],\n",
    "            num_heads=cfg[\"n_heads\"],\n",
    "            dropout=cfg[\"drop_rate\"],\n",
    "            qkv_bias=cfg[\"qkv_bias\"])\n",
    "        self.ff = FeedForward(cfg)\n",
    "        self.norm1 = LayerNorm(cfg[\"emb_dim\"])\n",
    "        self.norm2 = LayerNorm(cfg[\"emb_dim\"])\n",
    "        self.drop_resid = nn.Dropout(cfg[\"drop_rate\"])\n",
    "    \n",
    "    def forward(self, x):\n",
    "   \n",
    "        shortcut = x       #Shortcut connection for attention block\n",
    "        x = self.norm1(x)\n",
    "        x = self.att(x)\n",
    "        x = self.drop_resid(x)\n",
    "        x = x + shortcut #Add the original input back\n",
    "        \n",
    "        shortcut = x #Shortcut connection for feed forward block\n",
    "        x = self.norm2(x)\n",
    "        x = self.ff(x)\n",
    "        x = self.drop_resid(x)\n",
    "        x = x + shortcut #Add the original input back\n",
    "\n",
    "        return x\n"
   ]
  },
  {
   "cell_type": "code",
   "execution_count": 52,
   "id": "b5bb7099-6132-4e91-954c-6f478129a37d",
   "metadata": {},
   "outputs": [
    {
     "name": "stdout",
     "output_type": "stream",
     "text": [
      "Input shape: torch.Size([2, 4, 768])\n",
      "Output shape: torch.Size([2, 4, 768])\n"
     ]
    }
   ],
   "source": [
    "#Instantiating a transformer block\n",
    "torch.manual_seed(123)\n",
    "x = torch.rand(2, 4, 768) #A\n",
    "block = TransformerBlock(GPT_CONFIG_124M)\n",
    "output = block(x)\n",
    "print(\"Input shape:\", x.shape)\n",
    "print(\"Output shape:\", output.shape)"
   ]
  },
  {
   "cell_type": "markdown",
   "id": "6f3daa08-f043-454e-a0f9-c7f6c44771c5",
   "metadata": {},
   "source": [
    "***Coding the GPT model***\n",
    "\n",
    "Tokenized text is first converted into token embeddings, which are then augmented with positional embeddings. This combined information forms a tensor that is passed through a series of transformer blocks shown in the center (each containing multi-head attention and feed forward neural network layers with dropout and layer normalization), which are stacked on top of each other and repeated 12 times. The output from the final transformer block goes through a final layer normalization step before reaching the linear output layer. This layer maps the transformer's output to a high-dimensional space (in this case, 50,257 dimensions, corresponding to the model's vocabulary size) to predict the next token in the sequence."
   ]
  },
  {
   "cell_type": "code",
   "execution_count": 53,
   "id": "54a93622-f410-489f-85f6-2ea08d464727",
   "metadata": {},
   "outputs": [],
   "source": [
    "import torch.nn as nn\n",
    "class GPTModel(nn.Module):\n",
    "    def __init__(self, cfg):\n",
    "        super().__init__()\n",
    "        self.tok_emb = nn.Embedding(cfg[\"vocab_size\"], cfg[\"emb_dim\"])\n",
    "        self.pos_emb = nn.Embedding(cfg[\"ctx_len\"], cfg[\"emb_dim\"])\n",
    "        self.drop_emb = nn.Dropout(cfg[\"drop_rate\"])\n",
    "        \n",
    "        self.trf_blocks = nn.Sequential(*[TransformerBlock(cfg) for _ in range(cfg[\"n_layers\"])])\n",
    "        self.final_norm = LayerNorm(cfg[\"emb_dim\"]) \n",
    "        self.out_head = nn.Linear(cfg[\"emb_dim\"], cfg[\"vocab_size\"], bias=False)\n",
    "\n",
    "    def forward(self, in_idx):\n",
    "        batch_size, seq_len = in_idx.shape\n",
    "        tok_embeds = self.tok_emb(in_idx)\n",
    "        pos_embeds = self.pos_emb(torch.arange(seq_len,device=in_idx.device))\n",
    "        x = tok_embeds + pos_embeds\n",
    "    \n",
    "        x = self.trf_blocks(x)\n",
    "        x = self.final_norm(x)\n",
    "        logits = self.out_head(x)\n",
    "        return logits"
   ]
  },
  {
   "cell_type": "code",
   "execution_count": 54,
   "id": "3f507162-12af-4ee4-a3c2-cbbd9e94bdde",
   "metadata": {},
   "outputs": [
    {
     "name": "stdout",
     "output_type": "stream",
     "text": [
      "Input batch:\n",
      " tensor([[6109, 3626, 6100,  345],\n",
      "        [6109, 1110, 6622,  257]])\n",
      "\n",
      "Output shape: torch.Size([2, 4, 50257])\n",
      "tensor([[[-0.3836,  0.1907, -0.2999,  ...,  0.0701, -0.3504, -0.8911],\n",
      "         [ 0.3457, -0.4659, -0.7705,  ..., -0.3331,  0.0161,  0.1663],\n",
      "         [ 0.9492, -0.1808, -0.0225,  ...,  0.2096, -0.3042, -0.1051],\n",
      "         [-0.8163,  0.3850, -0.2297,  ...,  1.0137,  0.4000, -0.4916]],\n",
      "\n",
      "        [[ 0.0851,  0.1240, -0.0751,  ...,  0.5713,  0.2818, -0.6030],\n",
      "         [ 0.0400, -0.2573,  0.0609,  ...,  0.5641, -0.1687,  0.3409],\n",
      "         [ 0.9161,  1.0140, -0.2341,  ...,  0.2165,  0.5243,  0.1291],\n",
      "         [ 0.1589,  0.2120,  0.6350,  ...,  0.9529, -0.1897, -0.3581]]],\n",
      "       grad_fn=<UnsafeViewBackward0>)\n"
     ]
    }
   ],
   "source": [
    "torch.manual_seed(123)\n",
    "model = GPTModel(GPT_CONFIG_124M)\n",
    "out = model(batch)\n",
    "print(\"Input batch:\\n\", batch)\n",
    "print(\"\\nOutput shape:\", out.shape)\n",
    "print(out)"
   ]
  },
  {
   "cell_type": "markdown",
   "id": "55e34183-7bef-45aa-86cf-13414a43255a",
   "metadata": {},
   "source": [
    "The last dimension, 50,257, corresponds to the vocabulary size of the tokenizer."
   ]
  },
  {
   "cell_type": "code",
   "execution_count": null,
   "id": "48f726b2-d181-41a6-ac5e-29109f7f4210",
   "metadata": {},
   "outputs": [],
   "source": [
    "#numel() method, short for \"number of elements,\" to collect the total number of parameters in the model's parameter tensors"
   ]
  },
  {
   "cell_type": "code",
   "execution_count": 55,
   "id": "8b18bb54-a6c9-47db-b249-4089310e93be",
   "metadata": {},
   "outputs": [
    {
     "name": "stdout",
     "output_type": "stream",
     "text": [
      "Total number of parameters: 163,009,536\n"
     ]
    }
   ],
   "source": [
    "total_params = sum(p.numel() for p in model.parameters())\n",
    "print(f\"Total number of parameters: {total_params:,}\")\n"
   ]
  },
  {
   "cell_type": "markdown",
   "id": "9fa4a8ff-7ddf-49ac-a9b7-f9b901489b14",
   "metadata": {},
   "source": [
    "***Generating text***\n",
    "\n",
    "Code that converts the tensor outputs of the GPT model back into text. Thisincludes decoding the output tensors, selecting tokens based on a probability distribution, and converting these tokens into human-readable text.\n"
   ]
  },
  {
   "cell_type": "code",
   "execution_count": 56,
   "id": "f3b3c12b-b1c6-444e-a5f7-6a0651d6ef88",
   "metadata": {},
   "outputs": [],
   "source": [
    "#Simple implementation of a generative loop for a language model\n",
    "def generate_text_simple(model, idx, max_new_tokens, context_size): #idx is (B, T) array of indices in the current context\n",
    "    for _ in range(max_new_tokens):\n",
    "        idx_cond = idx[:, -context_size:] #Crop current context if it exceeds the supported context size\n",
    "        with torch.no_grad():\n",
    "            logits = model(idx_cond)\n",
    "        logits = logits[:, -1, :] #Focus only on the last time step, so that (batch, n_token, vocab_size) becomes (batch, vocab_size)\n",
    "        probas = torch.softmax(logits, dim=-1) #probas has shape (batch, vocab_size)\n",
    "        idx_next = torch.argmax(probas, dim=-1, keepdim=True) #idx_next has shape (batch, 1)\n",
    "        idx = torch.cat((idx, idx_next), dim=1) # (batch, n_tokens+1) #Append sampled index to the running sequence\n",
    "    return idx\n"
   ]
  },
  {
   "cell_type": "code",
   "execution_count": 65,
   "id": "398dcd17-9ce2-4df9-9093-34d121f6dd99",
   "metadata": {},
   "outputs": [
    {
     "name": "stdout",
     "output_type": "stream",
     "text": [
      "encoded: [15496, 11, 314, 716]\n",
      "encoded_tensor.shape: torch.Size([1, 4])\n"
     ]
    }
   ],
   "source": [
    "start_context = \"Hello, I am\"\n",
    "encoded = tokenizer.encode(start_context)\n",
    "print(\"encoded:\", encoded)\n",
    "encoded_tensor = torch.tensor(encoded).unsqueeze(0) #Adding a batch dimension\n",
    "print(\"encoded_tensor.shape:\", encoded_tensor.shape)"
   ]
  },
  {
   "cell_type": "code",
   "execution_count": 73,
   "id": "5864cc9d-4652-4a0c-b19e-2a93606b7493",
   "metadata": {},
   "outputs": [
    {
     "name": "stdout",
     "output_type": "stream",
     "text": [
      "Output: tensor([[15496,    11,   314,   716, 27018, 24086, 47843, 30961, 42348,  7267]])\n",
      "Output length: 10\n"
     ]
    }
   ],
   "source": [
    "#mode evaldisables random components like dropout, which are only used during training\n",
    "model.eval() \n",
    "out = generate_text_simple(model=model, idx=encoded_tensor,max_new_tokens=6,context_size=GPT_CONFIG_124M[\"ctx_len\"])\n",
    "print(\"Output:\", out)\n",
    "print(\"Output length:\", len(out[0]))\n"
   ]
  },
  {
   "cell_type": "code",
   "execution_count": 74,
   "id": "6887bcbe-ecbb-4b91-a687-69af3584782f",
   "metadata": {},
   "outputs": [
    {
     "name": "stdout",
     "output_type": "stream",
     "text": [
      "Hello, I am Featureiman Byeswickattribute argue\n"
     ]
    }
   ],
   "source": [
    "decoded_text = tokenizer.decode(out.squeeze(0).tolist())\n",
    "print(decoded_text)"
   ]
  },
  {
   "cell_type": "markdown",
   "id": "f0d2ee49-45a3-42cc-befa-c70f0a2fb87e",
   "metadata": {},
   "source": [
    "The model is untrained which expalins hence the random output text above"
   ]
  },
  {
   "cell_type": "code",
   "execution_count": null,
   "id": "9a25e55b-fc03-4b6b-9735-8c5dd5028028",
   "metadata": {},
   "outputs": [],
   "source": []
  }
 ],
 "metadata": {
  "kernelspec": {
   "display_name": "Python 3 (ipykernel)",
   "language": "python",
   "name": "python3"
  },
  "language_info": {
   "codemirror_mode": {
    "name": "ipython",
    "version": 3
   },
   "file_extension": ".py",
   "mimetype": "text/x-python",
   "name": "python",
   "nbconvert_exporter": "python",
   "pygments_lexer": "ipython3",
   "version": "3.11.7"
  }
 },
 "nbformat": 4,
 "nbformat_minor": 5
}

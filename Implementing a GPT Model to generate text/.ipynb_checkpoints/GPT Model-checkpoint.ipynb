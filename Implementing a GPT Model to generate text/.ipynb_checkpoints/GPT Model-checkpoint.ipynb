{
 "cells": [
  {
   "cell_type": "markdown",
   "id": "b29aa980-7d90-47e1-a360-6ba2959b5eec",
   "metadata": {},
   "source": [
    "Smallest version of GPT-2 model,  with 124 million parameters, as described in Radford's et al.'s paper, \"Language Models are Unsupervised Multitask Learners.\""
   ]
  },
  {
   "cell_type": "code",
   "execution_count": null,
   "id": "f2a181f9-bffe-4612-80b1-a6ae9d724897",
   "metadata": {},
   "outputs": [],
   "source": [
    "#Configuration of the model\n",
    "GPT_CONFIG_124M = {\n",
    "    \"vocab_size\": 50257, # Vocabulary size\n",
    "    \"ctx_len\": 1024, # Context length\n",
    "    \"emb_dim\": 768, # Embedding dimension\n",
    "    \"n_heads\": 12, # Number of attention heads\n",
    "    \"n_layers\": 12, # Number of layers\n",
    "    \"drop_rate\": 0.1, # Dropout rate\n",
    "    \"qkv_bias\": False # Query-Key-Value bias\n",
    "}\n"
   ]
  },
  {
   "cell_type": "markdown",
   "id": "56470781-bad6-4b73-af9a-c3d5c0dc7c0f",
   "metadata": {},
   "source": [
    "Components of the models architecture:\n",
    "- Layer normalization\n",
    "- GELU activation\n",
    "- Feed forward network\n",
    "- Shortcut connections\n",
    "- Transformer block"
   ]
  },
  {
   "cell_type": "code",
   "execution_count": null,
   "id": "46e44394-aef9-49ae-a47e-cbda30fc8b6d",
   "metadata": {},
   "outputs": [],
   "source": [
    "#First, we build the backbone of the model. The configuration is passed through a dictionary. The forward method describes the data flow through the model: \n",
    "#it computes token and #positional embeddings for the input indices, applies dropout, processes the data through #the transformer blocks, \n",
    "#applies normalization, and finally produces logits with the linear output layer\n",
    "import torch.nn as nn\n",
    "class DummyGPTModel(nn.Module):\n",
    "    def __init__(self, cfg):\n",
    "        super().__init__()\n",
    "        self.tok_emb = nn.Embedding(cfg[\"vocab_size\"], cfg[\"emb_dim\"])\n",
    "        self.pos_emb = nn.Embedding(cfg[\"ctx_len\"], cfg[\"emb_dim\"])\n",
    "        self.drop_emb = nn.Dropout(cfg[\"drop_rate\"])\n",
    "        self.trf_blocks = nn.Sequential(*[DummyTransformerBlock(cfg) for _ in range(cfg[\"n_layers\"])])# Placeholder for Transformer block\n",
    "        self.final_norm = DummyLayerNorm(cfg[\"emb_dim\"]) #Placeholder for LayerNorm \n",
    "        self.out_head = nn.Linear(cfg[\"emb_dim\"], cfg[\"vocab_size\"], bias=False)\n",
    "\n",
    "    def forward(self, in_idx):\n",
    "        batch_size, seq_len = in_idx.shape\n",
    "        tok_embeds = self.tok_emb(in_idx)\n",
    "        pos_embeds = self.pos_emb(torch.arange(seq_len,device=in_idx.device))\n",
    "        x = tok_embeds + pos_embeds\n",
    "        x = self.drop_emb(x)\n",
    "        x = self.trf_blocks(x)\n",
    "        x = self.final_norm(x)\n",
    "        logits = self.out_head(x)\n",
    "        return logits\n",
    "        \n",
    "class DummyTransformerBlock(nn.Module): #Placeholder transformer class\n",
    "        def __init__(self, cfg):\n",
    "            super().__init__()\n",
    "        def forward(self, x): \n",
    "            return x\n",
    "            \n",
    "class DummyLayerNorm(nn.Module): #Placehoder fot Layer Normalization\n",
    "        def __init__(self, normalized_shape, eps=1e-5): \n",
    "            super().__init__()\n",
    "        def forward(self, x):\n",
    "            return x"
   ]
  },
  {
   "cell_type": "code",
   "execution_count": null,
   "id": "dc156d36-a3c3-4763-873c-70d3630ccda2",
   "metadata": {},
   "outputs": [],
   "source": []
  },
  {
   "cell_type": "code",
   "execution_count": null,
   "id": "cfab0bd0-fcaa-4f21-8d0a-c7cbbd0064dd",
   "metadata": {},
   "outputs": [],
   "source": []
  },
  {
   "cell_type": "code",
   "execution_count": null,
   "id": "392d67a0-e104-48a7-a421-d9d73acf16bf",
   "metadata": {},
   "outputs": [],
   "source": []
  },
  {
   "cell_type": "code",
   "execution_count": null,
   "id": "683ad89b-1b9d-48dc-822c-f5a00685e591",
   "metadata": {},
   "outputs": [],
   "source": []
  }
 ],
 "metadata": {
  "kernelspec": {
   "display_name": "Python 3 (ipykernel)",
   "language": "python",
   "name": "python3"
  },
  "language_info": {
   "codemirror_mode": {
    "name": "ipython",
    "version": 3
   },
   "file_extension": ".py",
   "mimetype": "text/x-python",
   "name": "python",
   "nbconvert_exporter": "python",
   "pygments_lexer": "ipython3",
   "version": "3.11.7"
  }
 },
 "nbformat": 4,
 "nbformat_minor": 5
}
